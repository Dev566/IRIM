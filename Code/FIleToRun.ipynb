{
 "cells": [
  {
   "cell_type": "code",
   "execution_count": 32,
   "metadata": {},
   "outputs": [],
   "source": [
    "import findspark\n",
    "findspark.init('/home/ubuntu/spark-2.1.1-bin-hadoop2.7')\n",
    "import pyspark\n",
    "from pyspark.sql import SparkSession\n",
    "spark = SparkSession.builder.appName('Project').getOrCreate()\n",
    "import pandas as pd\n",
    "import itertools"
   ]
  },
  {
   "cell_type": "code",
   "execution_count": 33,
   "metadata": {},
   "outputs": [],
   "source": [
    "columns= []\n",
    "table_rows =[]\n",
    "Decision =''\n",
    "decision_rows=[]\n",
    "table_header =[]\n",
    "table_content =[]\n"
   ]
  },
  {
   "cell_type": "code",
   "execution_count": 34,
   "metadata": {},
   "outputs": [],
   "source": [
    "#ask the user to enter the file name and then the load the file data\n",
    "def readFile():\n",
    "    is_Columns_found = False\n",
    "    column_count_loc=0\n",
    "    print('Enter FileName ')\n",
    "    FileName = input(\"> \")\n",
    "    print(\"Loading file {}\".format(FileName))\n",
    "    file = open(FileName, 'r')\n",
    "    for row_Number, row in enumerate(file):\n",
    "        row_Item = row.split()\n",
    "        if(len(row_Item)==0):\n",
    "            continue\n",
    "        if(row_Item[0].startswith('<') or row_Item[0].startswith('!')):\n",
    "            continue\n",
    "        elif(is_Columns_found==False and row_Item[0].startswith('[')):\n",
    "            columns = row_Item[1:-2]\n",
    "            Decision=row_Item[-2]\n",
    "            table_header=row_Item[1:-1]\n",
    "            is_Columns_found=True\n",
    "            print(is_Columns_found)\n",
    "        else:\n",
    "            table_rows.append(row_Item[0:-1])\n",
    "            decision_rows.append(row_Item[-1])\n",
    "            row_Item.append(row_Number+1)\n",
    "            table_content.append(row_Item)\n",
    "            #table_content.append(row_Number+1)\n",
    "            column_count_loc+=1\n",
    "    print('Printing Attributes : ',columns)\n",
    "    print('Printing Decision : ',Decision)\n",
    "    return column_count_loc,columns,table_rows,Decision,decision_rows,table_header,table_content\n"
   ]
  },
  {
   "cell_type": "code",
   "execution_count": 35,
   "metadata": {},
   "outputs": [
    {
     "name": "stdout",
     "output_type": "stream",
     "text": [
      "Enter FileName \n",
      "> Report1.txt\n",
      "Loading file Report1.txt\n",
      "True\n",
      "Printing Attributes :  ['Age', 'HyperTension', 'Complication']\n",
      "Printing Decision :  Delivery\n"
     ]
    }
   ],
   "source": [
    "#Calling Read file function\n",
    "column_count,columns,table_rows,Decision,decision_rows,table_header,table_content=readFile()"
   ]
  },
  {
   "cell_type": "code",
   "execution_count": 26,
   "metadata": {},
   "outputs": [],
   "source": [
    "from pyspark.sql.functions import monotonically_increasing_id\n",
    "def convertTableToSparkDataframe():\n",
    "    df = spark.createDataFrame(table_content , table_header)\n",
    "    #res = df.withColumn(\"id\", monotonically_increasing_id()+1)\n",
    "    print('Do you want to display the table (Y/N) ')\n",
    "    choice = input(\"> \")\n",
    "    if(choice=='Y' or choice == 'y'):\n",
    "        res.show()\n",
    "    return res"
   ]
  },
  {
   "cell_type": "code",
   "execution_count": 37,
   "metadata": {},
   "outputs": [],
   "source": [
    "table_header.append(\"id\")"
   ]
  },
  {
   "cell_type": "code",
   "execution_count": 38,
   "metadata": {},
   "outputs": [
    {
     "name": "stdout",
     "output_type": "stream",
     "text": [
      "Do you want to display the table (Y/N) \n",
      "> y\n",
      "+---+------------+------------+--------+---+\n",
      "|Age|HyperTension|Complication|Delivery| id|\n",
      "+---+------------+------------+--------+---+\n",
      "| 26|          no|        none| preterm|  1|\n",
      "| 26|         yes|     obesity| preterm|  2|\n",
      "| 34|          no|     obesity|fullterm|  3|\n",
      "| 34|         yes|     obesity|fullterm|  4|\n",
      "| 28|         yes|     obesity|fullterm|  5|\n",
      "| 28|         yes|        none| preterm|  6|\n",
      "+---+------------+------------+--------+---+\n",
      "\n"
     ]
    }
   ],
   "source": [
    "res=convertTableToSparkDataframe()"
   ]
  },
  {
   "cell_type": "code",
   "execution_count": 36,
   "metadata": {},
   "outputs": [
    {
     "data": {
      "text/plain": [
       "[['26', 'no', 'none', 'preterm', 3],\n",
       " ['26', 'yes', 'obesity', 'preterm', 4],\n",
       " ['34', 'no', 'obesity', 'fullterm', 5],\n",
       " ['34', 'yes', 'obesity', 'fullterm', 6],\n",
       " ['28', 'yes', 'obesity', 'fullterm', 7],\n",
       " ['28', 'yes', 'none', 'preterm', 8]]"
      ]
     },
     "execution_count": 36,
     "metadata": {},
     "output_type": "execute_result"
    }
   ],
   "source": [
    "table_content"
   ]
  },
  {
   "cell_type": "code",
   "execution_count": 19,
   "metadata": {},
   "outputs": [
    {
     "data": {
      "text/plain": [
       "['Age', 'HyperTension', 'Complication', 'Delivery']"
      ]
     },
     "execution_count": 19,
     "metadata": {},
     "output_type": "execute_result"
    }
   ],
   "source": [
    "table_header"
   ]
  },
  {
   "cell_type": "code",
   "execution_count": 20,
   "metadata": {},
   "outputs": [],
   "source": []
  },
  {
   "cell_type": "code",
   "execution_count": 21,
   "metadata": {},
   "outputs": [
    {
     "data": {
      "text/plain": [
       "['Age', 'HyperTension', 'Complication', 'Delivery', 'ID']"
      ]
     },
     "execution_count": 21,
     "metadata": {},
     "output_type": "execute_result"
    }
   ],
   "source": []
  },
  {
   "cell_type": "code",
   "execution_count": 7,
   "metadata": {},
   "outputs": [
    {
     "name": "stdout",
     "output_type": "stream",
     "text": [
      "+------------+-----------+------------+-----------+-----------+---+\n",
      "|sepal_length|sepal_width|petal_length|petal_width|      class| id|\n",
      "+------------+-----------+------------+-----------+-----------+---+\n",
      "|         5.1|        3.5|         1.4|        0.2|Iris-setosa|  1|\n",
      "|         4.9|        3.0|         1.4|        0.2|Iris-setosa|  2|\n",
      "|         4.7|        3.2|         1.3|        0.2|Iris-setosa|  3|\n",
      "|         4.6|        3.1|         1.5|        0.2|Iris-setosa|  4|\n",
      "|         5.0|        3.6|         1.4|        0.2|Iris-setosa|  5|\n",
      "|         5.4|        3.9|         1.7|        0.4|Iris-setosa|  6|\n",
      "|         4.6|        3.4|         1.4|        0.3|Iris-setosa|  7|\n",
      "|         5.0|        3.4|         1.5|        0.2|Iris-setosa|  8|\n",
      "|         4.4|        2.9|         1.4|        0.2|Iris-setosa|  9|\n",
      "|         4.9|        3.1|         1.5|        0.1|Iris-setosa| 10|\n",
      "|         5.4|        3.7|         1.5|        0.2|Iris-setosa| 11|\n",
      "|         4.8|        3.4|         1.6|        0.2|Iris-setosa| 12|\n",
      "|         4.8|        3.0|         1.4|        0.1|Iris-setosa| 13|\n",
      "|         4.3|        3.0|         1.1|        0.1|Iris-setosa| 14|\n",
      "|         5.8|        4.0|         1.2|        0.2|Iris-setosa| 15|\n",
      "|         5.7|        4.4|         1.5|        0.4|Iris-setosa| 16|\n",
      "|         5.4|        3.9|         1.3|        0.4|Iris-setosa| 17|\n",
      "|         5.1|        3.5|         1.4|        0.3|Iris-setosa| 18|\n",
      "|         5.7|        3.8|         1.7|        0.3|Iris-setosa| 19|\n",
      "|         5.1|        3.8|         1.5|        0.3|Iris-setosa| 20|\n",
      "+------------+-----------+------------+-----------+-----------+---+\n",
      "only showing top 20 rows\n",
      "\n"
     ]
    }
   ],
   "source": [
    "res.show()"
   ]
  },
  {
   "cell_type": "code",
   "execution_count": null,
   "metadata": {},
   "outputs": [],
   "source": []
  },
  {
   "cell_type": "code",
   "execution_count": null,
   "metadata": {},
   "outputs": [],
   "source": []
  },
  {
   "cell_type": "code",
   "execution_count": null,
   "metadata": {},
   "outputs": [],
   "source": []
  },
  {
   "cell_type": "code",
   "execution_count": 8,
   "metadata": {},
   "outputs": [],
   "source": [
    "def is_numerical(num):\n",
    "    try:\n",
    "        float(num)\n",
    "        return True\n",
    "    except ValueError:\n",
    "        return False"
   ]
  },
  {
   "cell_type": "code",
   "execution_count": null,
   "metadata": {},
   "outputs": [],
   "source": [
    "\n"
   ]
  },
  {
   "cell_type": "code",
   "execution_count": 9,
   "metadata": {},
   "outputs": [],
   "source": [
    "\n",
    "def creatingBlocks(blocks,data_type,data_type_num,table_header,res):\n",
    "    for col in table_header:\n",
    "        new_df1=res.select(col).distinct()\n",
    "        b={}\n",
    "        count=0\n",
    "        if col in data_type_num.keys():\n",
    "            count=data_type_num[col]\n",
    "        for r in new_df1.head(new_df1.count()):\n",
    "            #print(r[0])\n",
    "            list1 = res.filter(res[col]==r[0]).select('id').collect()\n",
    "            list1_array =[int(i.id) for i in list1]\n",
    "            list1_array=list(set(list1_array))\n",
    "            b[r[0]]= list1_array\n",
    "            if(is_numerical(r[0])):\n",
    "                count+=len(list1_array)\n",
    "        data_type_num[col]=count\n",
    "\n",
    "        if col in blocks:\n",
    "            blocks[col].append(b)\n",
    "        else:\n",
    "            blocks[col]=b\n",
    "    print('Do you want to display the Blocks (Y/N) ')\n",
    "    choice = input(\"> \")\n",
    "    if(choice=='Y' or choice == 'y'):\n",
    "        print(blocks)\n",
    "    return blocks,data_type_num,data_type"
   ]
  },
  {
   "cell_type": "code",
   "execution_count": 10,
   "metadata": {},
   "outputs": [
    {
     "name": "stdout",
     "output_type": "stream",
     "text": [
      "Do you want to display the Blocks (Y/N) \n",
      "> \n"
     ]
    }
   ],
   "source": [
    "data_type_num ={}\n",
    "data_type = {}\n",
    "blocks ={}\n",
    "blocks,data_type_num,data_type=creatingBlocks(blocks,data_type,data_type_num,table_header,res)"
   ]
  },
  {
   "cell_type": "code",
   "execution_count": null,
   "metadata": {},
   "outputs": [],
   "source": []
  },
  {
   "cell_type": "code",
   "execution_count": 11,
   "metadata": {},
   "outputs": [],
   "source": [
    "def openFileToWrite(f_name):\n",
    "    temp_fileHandler= open('Log.txt','w')\n",
    "    temp_fileHandler.write('Starting file to write \\n')\n",
    "    return temp_fileHandler"
   ]
  },
  {
   "cell_type": "code",
   "execution_count": 12,
   "metadata": {},
   "outputs": [],
   "source": [
    "def writeBlockInFile(file,columns,blocks):\n",
    "    file.write('\\n Dictionary\\n') \n",
    "    for attr in columns:\n",
    "        file.write('Column/Attribute : ')\n",
    "        file.write(attr) \n",
    "        file.write('\\n')\n",
    "        for val in blocks[attr]:\n",
    "            file.write(val)\n",
    "            file.write(': [ ')\n",
    "            tem=blocks[attr][val]\n",
    "            for v in tem:\n",
    "                file.write(str(v))\n",
    "                file.write(' ')\n",
    "            file.write(']\\n')"
   ]
  },
  {
   "cell_type": "code",
   "execution_count": 13,
   "metadata": {},
   "outputs": [],
   "source": [
    "def close_file(file):\n",
    "    file.write('\\n ------ Closing File ------\\n')\n",
    "    file.close() "
   ]
  },
  {
   "cell_type": "code",
   "execution_count": 14,
   "metadata": {},
   "outputs": [],
   "source": [
    "#writing the block values in a file\n",
    "file1=openFileToWrite('Block_Output.txt')\n",
    "writeBlockInFile(file1,columns,blocks)"
   ]
  },
  {
   "cell_type": "code",
   "execution_count": 15,
   "metadata": {},
   "outputs": [],
   "source": [
    "#\n",
    "def processingDataForMissingValues():\n",
    "    list_missing=[]\n",
    "    for attr in columns:\n",
    "        list_missing=[]\n",
    "        #missing value *\n",
    "        if \"*\" in blocks[attr]:\n",
    "            list_missing = blocks[attr].pop('*',None)\n",
    "            if(len(list_missing)>0):\n",
    "                for val in blocks[attr]:\n",
    "                    blocks[attr][val] = list(set(blocks[attr][val]).union(set(list_missing)))\n",
    "        #missing value -            \n",
    "        if \"-\" in blocks[attr]:\n",
    "            list_missing = blocks[attr].pop('-',None)\n",
    "            if(len(list_missing)>0):\n",
    "                for num in list_missing:\n",
    "                    #print(decision_rows[num])\n",
    "                    for val in blocks[attr]:\n",
    "                        if(len(list(set(set(blocks[Decision][decision_rows[num]]).intersection(set(set(blocks[attr][val]))))))>0):\n",
    "                            Temp_arr=[]\n",
    "                            Temp_arr.append(num)\n",
    "                            blocks[attr][val] = list(set(blocks[attr][val]).union(set(Temp_arr)))\n",
    "        #missing value ?\n",
    "        if \"?\" in blocks[attr]:\n",
    "            blocks[attr].pop('?',None)\n",
    "        #print(blocks)\n",
    "    return blocks"
   ]
  },
  {
   "cell_type": "code",
   "execution_count": 16,
   "metadata": {},
   "outputs": [],
   "source": [
    "blocks=processingDataForMissingValues()"
   ]
  },
  {
   "cell_type": "code",
   "execution_count": 17,
   "metadata": {},
   "outputs": [],
   "source": [
    "#blocks"
   ]
  },
  {
   "cell_type": "code",
   "execution_count": 18,
   "metadata": {},
   "outputs": [],
   "source": [
    "# writing the updated values in file\n",
    "writeBlockInFile(file1,columns,blocks)"
   ]
  },
  {
   "cell_type": "code",
   "execution_count": 19,
   "metadata": {},
   "outputs": [],
   "source": [
    "# remove the restriction\n",
    "def ClassifyTableData():\n",
    "    column_count_limit = column_count*0.75\n",
    "    for col in table_header:\n",
    "        if(data_type_num[col]>column_count_limit):\n",
    "            data_type[col]=\"Numerical\"\n",
    "        else:\n",
    "            data_type[col]=\"Discrete\"\n",
    "    return data_type"
   ]
  },
  {
   "cell_type": "code",
   "execution_count": 20,
   "metadata": {},
   "outputs": [],
   "source": [
    "data_type=ClassifyTableData()"
   ]
  },
  {
   "cell_type": "code",
   "execution_count": 21,
   "metadata": {},
   "outputs": [
    {
     "name": "stdout",
     "output_type": "stream",
     "text": [
      "{'sepal_width': 'Numerical', 'class': 'Discrete', 'petal_length': 'Numerical', 'sepal_length': 'Numerical', 'petal_width': 'Numerical'}\n"
     ]
    }
   ],
   "source": [
    "print(data_type)"
   ]
  },
  {
   "cell_type": "code",
   "execution_count": null,
   "metadata": {},
   "outputs": [],
   "source": []
  },
  {
   "cell_type": "code",
   "execution_count": 22,
   "metadata": {},
   "outputs": [],
   "source": [
    "def add_Cases(formatedCut,colName,values):\n",
    "    if formatedCut in blocks[colName]:\n",
    "        blocks[colName][formatedCut]=list(set(blocks[colName][formatedCut]).union(set(values)))\n",
    "    else:\n",
    "        blocks[colName][formatedCut]=values"
   ]
  },
  {
   "cell_type": "code",
   "execution_count": 23,
   "metadata": {},
   "outputs": [],
   "source": [
    "def convert_NumericalToConceptual():\n",
    "    for colName in columns:\n",
    "        if(data_type[colName]=='Numerical'):\n",
    "            tempArray = sorted(list(blocks[colName].keys()))\n",
    "            list_cutpoints = []\n",
    "            for cutpoint_i in range(len(tempArray)-1):\n",
    "                list_cutpoints.append((float(tempArray[cutpoint_i])+float(tempArray[cutpoint_i+1]))/2)\n",
    "            for val in tempArray:\n",
    "                for cut_point in list_cutpoints:\n",
    "                    values = blocks[colName][val]\n",
    "                    if(float(val)>cut_point):\n",
    "                        formatedCut = \" > {0:.2f} \".format(cut_point)\n",
    "                    elif (float(val)<=cut_point):\n",
    "                        formatedCut = \" <= {0:.2f} \".format(cut_point)\n",
    "                    add_Cases(formatedCut,colName,values)\n",
    "\n",
    "            for val in tempArray:\n",
    "                blocks[colName].pop(val,None)"
   ]
  },
  {
   "cell_type": "code",
   "execution_count": 24,
   "metadata": {},
   "outputs": [],
   "source": [
    "convert_NumericalToConceptual()"
   ]
  },
  {
   "cell_type": "code",
   "execution_count": 25,
   "metadata": {},
   "outputs": [],
   "source": [
    "#blocks"
   ]
  },
  {
   "cell_type": "code",
   "execution_count": 26,
   "metadata": {},
   "outputs": [],
   "source": [
    "file1.write('\\n Updated Dictionary converting Numerical Attributes to Conceptual\\n') \n",
    "writeBlockInFile(file1,columns,blocks)"
   ]
  },
  {
   "cell_type": "code",
   "execution_count": 58,
   "metadata": {},
   "outputs": [],
   "source": [
    "from RuleClass import RuleClass\n",
    "def print_rule(curRule,sr_no):\n",
    "        print('Rule ',sr_no)\n",
    "        #print(curRule.attributes, curRule.attributes_value)\n",
    "        #k=zip(curRule.attributes, curRule.attributes_value)\n",
    "        #print(list(k))\n",
    "        rule_str=''\n",
    "        is_first=True\n",
    "        for i in range(len(curRule.attributes)):\n",
    "            if(is_first==False):\n",
    "                rule_str = rule_str +' & '\n",
    "            rule_str=rule_str +'('+curRule.attributes[i]+', '+curRule.attributes_value[i]+\")\"\n",
    "            is_first=False\n",
    "        rule_str = rule_str +' --> ('+Decision+', '+curRule.Decision+\")\"\n",
    "        print(rule_str,',')\n",
    "        #print('Decision ',curRule.Decision)\n",
    "        #print('Decision Covered ',curRule.decision_cover)\n",
    "        #print('InCorrect Cover ',curRule.false_cover)\n",
    "        print('Strength: ',curRule.strength,',')\n",
    "        print('Specificity: ',curRule.specificity,',')\n",
    "        print('Support: ',curRule.support,',')\n",
    "        print('Conditional Probablity: ',curRule.conditionalProbablity,'.')\n",
    "        print('----------------------------------------------------------------------------------')"
   ]
  },
  {
   "cell_type": "code",
   "execution_count": 28,
   "metadata": {},
   "outputs": [],
   "source": [
    "def print_rule_without_detials(curRule,sr_no):\n",
    "        print('Rule ',sr_no)\n",
    "        #print(curRule.attributes, curRule.attributes_value)\n",
    "        #k=zip(curRule.attributes, curRule.attributes_value)\n",
    "        #print(list(k))\n",
    "        rule_str=''\n",
    "        is_first=True\n",
    "        for i in range(len(curRule.attributes)):\n",
    "            if(is_first==False):\n",
    "                rule_str = rule_str +' & '\n",
    "            rule_str=rule_str +'('+curRule.attributes[i]+', '+curRule.attributes_value[i]+\")\"\n",
    "            is_first=False\n",
    "        rule_str = rule_str +' --> ('+Decision+', '+curRule.Decision+\")\"\n",
    "        print(rule_str)\n",
    "        #print('Decision ',curRule.Decision)\n",
    "        print('--------------------------------------------------------------------------------------------------')"
   ]
  },
  {
   "cell_type": "code",
   "execution_count": 38,
   "metadata": {},
   "outputs": [
    {
     "name": "stdout",
     "output_type": "stream",
     "text": [
      "Default rule specification, (Please enter c or C, if you want to change any of the below condition)\n",
      "Minimum length of rule  1\n",
      "Maximum length of rule  1\n",
      "Minimum Strength of rule  5\n",
      "Minimum Conditional Probablity  1\n",
      "> \n"
     ]
    }
   ],
   "source": [
    "min_rule_Length=1\n",
    "max_rule_Length=1\n",
    "min_Strength=5\n",
    "min_prob=1\n",
    "print('Default rule specification, (Please enter c or C, if you want to change any of the below condition)')\n",
    "print('Minimum length of rule ',min_rule_Length)\n",
    "print('Maximum length of rule ',max_rule_Length)\n",
    "print('Minimum Strength of rule ',min_Strength)\n",
    "print('Minimum Conditional Probablity ',min_prob)\n",
    "choice = input(\"> \")\n",
    "if(choice=='c' or choice == 'C'):\n",
    "    print('Enter minimum length of rule ',min_rule_Length)\n",
    "    min_rule_Length= input(\"> \")\n",
    "    print('Enter maximum length of rule ',max_rule_Length)\n",
    "    max_rule_Length= input(\"> \")\n",
    "    print('Enter minimum Strength of rule ',min_Strength)\n",
    "    min_Strength= input(\"> \")\n",
    "    print('Enter minimum Conditional Probablity ',min_prob)\n",
    "    min_rule_Length= input(\"> \")"
   ]
  },
  {
   "cell_type": "code",
   "execution_count": 39,
   "metadata": {},
   "outputs": [],
   "source": [
    "possibleRules = []\n",
    "rules = []\n",
    "all_ID = res.select('id').collect()\n",
    "all_ID =[int(i.id) for i in all_ID]"
   ]
  },
  {
   "cell_type": "code",
   "execution_count": 40,
   "metadata": {},
   "outputs": [],
   "source": [
    "def compute_rules(min_rule_Length,max_rule_Length,min_Strength,min_prob):\n",
    "    temp_Decision=''\n",
    "    DecisionCovered = all_ID\n",
    "    #possible Rules\n",
    "    for j in range(min_rule_Length,max_rule_Length+1):   \n",
    "        for idx, attributeSet in enumerate(itertools.combinations(columns, j)):\n",
    "            #print(idx)\n",
    "            print(attributeSet)\n",
    "            valueSet = [[val for val in blocks[attr].keys() if val not in [\"*\", \"?\", \"-\"]] for attr in attributeSet]\n",
    "            #print('Value Set ',valueSet)\n",
    "            for combination in itertools.product(*valueSet):\n",
    "                k=zip(attributeSet, combination)\n",
    "                #print(attributeSet,len(combination))\n",
    "                #print('Printing zip',list(k))\n",
    "                temp=res\n",
    "                temp_ID = all_ID\n",
    "                for ri in range(len(attributeSet)):\n",
    "                    templist123= blocks[attributeSet[ri]][combination[ri]]              \n",
    "                    temp_ID=list(set(temp_ID).intersection(set(templist123)))\n",
    "                    #temp = temp.filter(temp[attributeSet[ri]]==combination[ri])\n",
    "                #list_arr= temp.select('id').collect()\n",
    "                strength=len(temp_ID)\n",
    "                if(strength<min_Strength):\n",
    "                    continue\n",
    "                #print(temp_ID)\n",
    "                max_covered =0\n",
    "                for key in blocks[Decision]:\n",
    "                    DecisionCovered=list(set(temp_ID).intersection(set(blocks[Decision][key])))\n",
    "                    if(max_covered<len(DecisionCovered)):\n",
    "                        max_covered=len(DecisionCovered)\n",
    "                        temp_Decision=key\n",
    "                DecisionCovered=list(set(temp_ID).intersection(set(blocks[Decision][temp_Decision]))) \n",
    "                cond_prob=float(len(DecisionCovered))/float(strength)\n",
    "                if(cond_prob<min_prob ):\n",
    "                    continue\n",
    "                inCorrectCover=list(set(temp_ID)-set(DecisionCovered))\n",
    "                #list1_array_temp =[int(i.id) for i in list_arr]\n",
    "                #print('Covered by Rule',list1_array_temp, temp_ID)\n",
    "                temp_rule=RuleClass(list(attributeSet),list(combination),temp_ID,temp_Decision,DecisionCovered,inCorrectCover)\n",
    "                possibleRules.append(temp_rule)\n",
    "    return possibleRules"
   ]
  },
  {
   "cell_type": "code",
   "execution_count": 41,
   "metadata": {},
   "outputs": [
    {
     "name": "stdout",
     "output_type": "stream",
     "text": [
      "('sepal_length',)\n",
      "('sepal_width',)\n",
      "('petal_length',)\n",
      "('petal_width',)\n"
     ]
    }
   ],
   "source": [
    "possibleRules=compute_rules(min_rule_Length,max_rule_Length,min_Strength,min_prob)"
   ]
  },
  {
   "cell_type": "code",
   "execution_count": 42,
   "metadata": {},
   "outputs": [],
   "source": [
    "def Display_Rules_SortStrength(possibleRules):\n",
    "    possibleRules = sorted(possibleRules, key=lambda each_rule: each_rule.strength,reverse=True)\n",
    "    #for each_rule in possibleRules:\n",
    "        #print_rule(each_rule)\n",
    "    return possibleRules"
   ]
  },
  {
   "cell_type": "code",
   "execution_count": 43,
   "metadata": {},
   "outputs": [],
   "source": [
    "def Display_Rules_SortConditionalProbablity(possibleRules):\n",
    "    possibleRules = sorted(possibleRules, key=lambda each_rule: each_rule.strength,reverse=True)\n",
    "    possibleRules = sorted(possibleRules, key=lambda each_rule: each_rule.conditionalProbablity,reverse=True)\n",
    "    #for each_rule in possibleRules:\n",
    "        #if(float(min_prob)>float(each_rule.conditionalProbablity)):\n",
    "            #break\n",
    "        #print_rule(each_rule)\n",
    "    return possibleRules"
   ]
  },
  {
   "cell_type": "code",
   "execution_count": 44,
   "metadata": {},
   "outputs": [
    {
     "name": "stdout",
     "output_type": "stream",
     "text": [
      "Number of rules generated 41\n",
      "Enter \n",
      " 1. Sort rules by Conditional Probbality \n",
      " 2. Sort rules by Rule Strength \n",
      " By default 2 is selected\n",
      "> \n"
     ]
    }
   ],
   "source": [
    "print(\"Number of rules generated\",len(possibleRules))\n",
    "print('Enter \\n 1. Sort rules by Conditional Probbality \\n 2. Sort rules by Rule Strength \\n By default 2 is selected')\n",
    "choice = input(\"> \")\n",
    "if(choice==1):\n",
    "    possibleRules1=Display_Rules_SortStrength(possibleRules)\n",
    "else:\n",
    "    possibleRules1=Display_Rules_SortConditionalProbablity(possibleRules)"
   ]
  },
  {
   "cell_type": "code",
   "execution_count": 45,
   "metadata": {},
   "outputs": [
    {
     "name": "stdout",
     "output_type": "stream",
     "text": [
      "Rule  1\n",
      "(petal_length,  <= 2.45 ) --> (class, Iris-setosa)\n",
      "--------------------------------------------------------------------------------------------------\n",
      "Rule  2\n",
      "(petal_width,  <= 0.80 ) --> (class, Iris-setosa)\n",
      "--------------------------------------------------------------------------------------------------\n",
      "Rule  3\n",
      "(petal_width,  <= 0.55 ) --> (class, Iris-setosa)\n",
      "--------------------------------------------------------------------------------------------------\n",
      "Rule  4\n",
      "(petal_length,  <= 1.80 ) --> (class, Iris-setosa)\n",
      "--------------------------------------------------------------------------------------------------\n",
      "Rule  5\n",
      "(petal_width,  <= 0.45 ) --> (class, Iris-setosa)\n",
      "--------------------------------------------------------------------------------------------------\n",
      "Rule  6\n",
      "(petal_length,  <= 1.65 ) --> (class, Iris-setosa)\n",
      "--------------------------------------------------------------------------------------------------\n",
      "Rule  7\n",
      "(petal_width,  <= 0.35 ) --> (class, Iris-setosa)\n",
      "--------------------------------------------------------------------------------------------------\n",
      "Rule  8\n",
      "(petal_length,  <= 1.55 ) --> (class, Iris-setosa)\n",
      "--------------------------------------------------------------------------------------------------\n",
      "Rule  9\n",
      "(petal_length,  > 5.15 ) --> (class, Iris-viginica)\n",
      "--------------------------------------------------------------------------------------------------\n",
      "Rule  10\n",
      "(petal_width,  <= 0.25 ) --> (class, Iris-setosa)\n",
      "--------------------------------------------------------------------------------------------------\n",
      "Rule  11\n",
      "(petal_width,  > 1.85 ) --> (class, Iris-viginica)\n",
      "--------------------------------------------------------------------------------------------------\n",
      "Rule  12\n",
      "(petal_length,  > 5.25 ) --> (class, Iris-viginica)\n",
      "--------------------------------------------------------------------------------------------------\n",
      "Rule  13\n",
      "(petal_length,  > 5.35 ) --> (class, Iris-viginica)\n",
      "--------------------------------------------------------------------------------------------------\n",
      "Rule  14\n",
      "(petal_width,  > 1.95 ) --> (class, Iris-viginica)\n",
      "--------------------------------------------------------------------------------------------------\n",
      "Rule  15\n",
      "(petal_length,  > 5.45 ) --> (class, Iris-viginica)\n",
      "--------------------------------------------------------------------------------------------------\n",
      "Rule  16\n",
      "(petal_length,  > 5.55 ) --> (class, Iris-viginica)\n",
      "--------------------------------------------------------------------------------------------------\n",
      "Rule  17\n",
      "(petal_length,  <= 1.45 ) --> (class, Iris-setosa)\n",
      "--------------------------------------------------------------------------------------------------\n",
      "Rule  18\n",
      "(petal_width,  > 2.05 ) --> (class, Iris-viginica)\n",
      "--------------------------------------------------------------------------------------------------\n",
      "Rule  19\n",
      "(petal_length,  > 5.65 ) --> (class, Iris-viginica)\n",
      "--------------------------------------------------------------------------------------------------\n",
      "Rule  20\n",
      "(petal_width,  > 2.15 ) --> (class, Iris-viginica)\n",
      "--------------------------------------------------------------------------------------------------\n",
      "Rule  21\n",
      "(sepal_length,  <= 4.85 ) --> (class, Iris-setosa)\n",
      "--------------------------------------------------------------------------------------------------\n",
      "Rule  22\n",
      "(petal_length,  > 5.75 ) --> (class, Iris-viginica)\n",
      "--------------------------------------------------------------------------------------------------\n",
      "Rule  23\n",
      "(petal_width,  > 2.25 ) --> (class, Iris-viginica)\n",
      "--------------------------------------------------------------------------------------------------\n",
      "Rule  24\n",
      "(petal_length,  > 5.85 ) --> (class, Iris-viginica)\n",
      "--------------------------------------------------------------------------------------------------\n",
      "Rule  25\n",
      "(sepal_length,  > 7.05 ) --> (class, Iris-viginica)\n",
      "--------------------------------------------------------------------------------------------------\n",
      "Rule  26\n",
      "(sepal_length,  <= 4.75 ) --> (class, Iris-setosa)\n",
      "--------------------------------------------------------------------------------------------------\n",
      "Rule  27\n",
      "(sepal_length,  > 7.15 ) --> (class, Iris-viginica)\n",
      "--------------------------------------------------------------------------------------------------\n",
      "Rule  28\n",
      "(petal_length,  > 5.95 ) --> (class, Iris-viginica)\n",
      "--------------------------------------------------------------------------------------------------\n",
      "Rule  29\n",
      "(petal_length,  <= 1.35 ) --> (class, Iris-setosa)\n",
      "--------------------------------------------------------------------------------------------------\n",
      "Rule  30\n",
      "(sepal_length,  <= 4.65 ) --> (class, Iris-setosa)\n",
      "--------------------------------------------------------------------------------------------------\n",
      "Rule  31\n",
      "(petal_length,  > 6.05 ) --> (class, Iris-viginica)\n",
      "--------------------------------------------------------------------------------------------------\n",
      "Rule  32\n",
      "(sepal_length,  > 7.25 ) --> (class, Iris-viginica)\n",
      "--------------------------------------------------------------------------------------------------\n",
      "Rule  33\n",
      "(sepal_length,  > 7.35 ) --> (class, Iris-viginica)\n",
      "--------------------------------------------------------------------------------------------------\n",
      "Rule  34\n",
      "(sepal_length,  > 7.50 ) --> (class, Iris-viginica)\n",
      "--------------------------------------------------------------------------------------------------\n",
      "Rule  35\n",
      "(sepal_width,  > 3.85 ) --> (class, Iris-setosa)\n",
      "--------------------------------------------------------------------------------------------------\n",
      "Rule  36\n",
      "(petal_length,  > 6.20 ) --> (class, Iris-viginica)\n",
      "--------------------------------------------------------------------------------------------------\n",
      "Rule  37\n",
      "(petal_width,  <= 0.15 ) --> (class, Iris-setosa)\n",
      "--------------------------------------------------------------------------------------------------\n",
      "Rule  38\n",
      "(petal_width,  > 2.35 ) --> (class, Iris-viginica)\n",
      "--------------------------------------------------------------------------------------------------\n",
      "Rule  39\n",
      "(sepal_length,  > 7.65 ) --> (class, Iris-viginica)\n",
      "--------------------------------------------------------------------------------------------------\n",
      "Rule  40\n",
      "(sepal_length,  <= 4.55 ) --> (class, Iris-setosa)\n",
      "--------------------------------------------------------------------------------------------------\n",
      "Rule  41\n",
      "(petal_length,  > 6.35 ) --> (class, Iris-viginica)\n",
      "--------------------------------------------------------------------------------------------------\n"
     ]
    }
   ],
   "source": [
    "sr_no=1\n",
    "for each_rule in possibleRules1:\n",
    "    print_rule_without_detials(each_rule,sr_no)\n",
    "    sr_no+=1"
   ]
  },
  {
   "cell_type": "code",
   "execution_count": 59,
   "metadata": {},
   "outputs": [
    {
     "name": "stdout",
     "output_type": "stream",
     "text": [
      "Rule  1\n",
      "(petal_length,  <= 2.45 ) --> (class, Iris-setosa) ,\n",
      "Strength:  50 ,\n",
      "Specificity:  1 ,\n",
      "Support:  50 ,\n",
      "Conditional Probablity:  1.0 .\n",
      "----------------------------------------------------------------------------------\n",
      "Rule  2\n",
      "(petal_width,  <= 0.80 ) --> (class, Iris-setosa) ,\n",
      "Strength:  50 ,\n",
      "Specificity:  1 ,\n",
      "Support:  50 ,\n",
      "Conditional Probablity:  1.0 .\n",
      "----------------------------------------------------------------------------------\n",
      "Rule  3\n",
      "(petal_width,  <= 0.55 ) --> (class, Iris-setosa) ,\n",
      "Strength:  49 ,\n",
      "Specificity:  1 ,\n",
      "Support:  49 ,\n",
      "Conditional Probablity:  1.0 .\n",
      "----------------------------------------------------------------------------------\n",
      "Rule  4\n",
      "(petal_length,  <= 1.80 ) --> (class, Iris-setosa) ,\n",
      "Strength:  48 ,\n",
      "Specificity:  1 ,\n",
      "Support:  48 ,\n",
      "Conditional Probablity:  1.0 .\n",
      "----------------------------------------------------------------------------------\n",
      "Rule  5\n",
      "(petal_width,  <= 0.45 ) --> (class, Iris-setosa) ,\n",
      "Strength:  48 ,\n",
      "Specificity:  1 ,\n",
      "Support:  48 ,\n",
      "Conditional Probablity:  1.0 .\n",
      "----------------------------------------------------------------------------------\n",
      "Rule  6\n",
      "(petal_length,  <= 1.65 ) --> (class, Iris-setosa) ,\n",
      "Strength:  44 ,\n",
      "Specificity:  1 ,\n",
      "Support:  44 ,\n",
      "Conditional Probablity:  1.0 .\n",
      "----------------------------------------------------------------------------------\n",
      "Rule  7\n",
      "(petal_width,  <= 0.35 ) --> (class, Iris-setosa) ,\n",
      "Strength:  41 ,\n",
      "Specificity:  1 ,\n",
      "Support:  41 ,\n",
      "Conditional Probablity:  1.0 .\n",
      "----------------------------------------------------------------------------------\n",
      "Rule  8\n",
      "(petal_length,  <= 1.55 ) --> (class, Iris-setosa) ,\n",
      "Strength:  37 ,\n",
      "Specificity:  1 ,\n",
      "Support:  37 ,\n",
      "Conditional Probablity:  1.0 .\n",
      "----------------------------------------------------------------------------------\n",
      "Rule  9\n",
      "(petal_length,  > 5.15 ) --> (class, Iris-viginica) ,\n",
      "Strength:  34 ,\n",
      "Specificity:  1 ,\n",
      "Support:  34 ,\n",
      "Conditional Probablity:  1.0 .\n",
      "----------------------------------------------------------------------------------\n",
      "Rule  10\n",
      "(petal_width,  <= 0.25 ) --> (class, Iris-setosa) ,\n",
      "Strength:  34 ,\n",
      "Specificity:  1 ,\n",
      "Support:  34 ,\n",
      "Conditional Probablity:  1.0 .\n",
      "----------------------------------------------------------------------------------\n",
      "Rule  11\n",
      "(petal_width,  > 1.85 ) --> (class, Iris-viginica) ,\n",
      "Strength:  34 ,\n",
      "Specificity:  1 ,\n",
      "Support:  34 ,\n",
      "Conditional Probablity:  1.0 .\n",
      "----------------------------------------------------------------------------------\n",
      "Rule  12\n",
      "(petal_length,  > 5.25 ) --> (class, Iris-viginica) ,\n",
      "Strength:  32 ,\n",
      "Specificity:  1 ,\n",
      "Support:  32 ,\n",
      "Conditional Probablity:  1.0 .\n",
      "----------------------------------------------------------------------------------\n",
      "Rule  13\n",
      "(petal_length,  > 5.35 ) --> (class, Iris-viginica) ,\n",
      "Strength:  30 ,\n",
      "Specificity:  1 ,\n",
      "Support:  30 ,\n",
      "Conditional Probablity:  1.0 .\n",
      "----------------------------------------------------------------------------------\n",
      "Rule  14\n",
      "(petal_width,  > 1.95 ) --> (class, Iris-viginica) ,\n",
      "Strength:  29 ,\n",
      "Specificity:  1 ,\n",
      "Support:  29 ,\n",
      "Conditional Probablity:  1.0 .\n",
      "----------------------------------------------------------------------------------\n",
      "Rule  15\n",
      "(petal_length,  > 5.45 ) --> (class, Iris-viginica) ,\n",
      "Strength:  28 ,\n",
      "Specificity:  1 ,\n",
      "Support:  28 ,\n",
      "Conditional Probablity:  1.0 .\n",
      "----------------------------------------------------------------------------------\n",
      "Rule  16\n",
      "(petal_length,  > 5.55 ) --> (class, Iris-viginica) ,\n",
      "Strength:  25 ,\n",
      "Specificity:  1 ,\n",
      "Support:  25 ,\n",
      "Conditional Probablity:  1.0 .\n",
      "----------------------------------------------------------------------------------\n",
      "Rule  17\n",
      "(petal_length,  <= 1.45 ) --> (class, Iris-setosa) ,\n",
      "Strength:  23 ,\n",
      "Specificity:  1 ,\n",
      "Support:  23 ,\n",
      "Conditional Probablity:  1.0 .\n",
      "----------------------------------------------------------------------------------\n",
      "Rule  18\n",
      "(petal_width,  > 2.05 ) --> (class, Iris-viginica) ,\n",
      "Strength:  23 ,\n",
      "Specificity:  1 ,\n",
      "Support:  23 ,\n",
      "Conditional Probablity:  1.0 .\n",
      "----------------------------------------------------------------------------------\n",
      "Rule  19\n",
      "(petal_length,  > 5.65 ) --> (class, Iris-viginica) ,\n",
      "Strength:  19 ,\n",
      "Specificity:  1 ,\n",
      "Support:  19 ,\n",
      "Conditional Probablity:  1.0 .\n",
      "----------------------------------------------------------------------------------\n",
      "Rule  20\n",
      "(petal_width,  > 2.15 ) --> (class, Iris-viginica) ,\n",
      "Strength:  17 ,\n",
      "Specificity:  1 ,\n",
      "Support:  17 ,\n",
      "Conditional Probablity:  1.0 .\n",
      "----------------------------------------------------------------------------------\n",
      "Rule  21\n",
      "(sepal_length,  <= 4.85 ) --> (class, Iris-setosa) ,\n",
      "Strength:  16 ,\n",
      "Specificity:  1 ,\n",
      "Support:  16 ,\n",
      "Conditional Probablity:  1.0 .\n",
      "----------------------------------------------------------------------------------\n",
      "Rule  22\n",
      "(petal_length,  > 5.75 ) --> (class, Iris-viginica) ,\n",
      "Strength:  16 ,\n",
      "Specificity:  1 ,\n",
      "Support:  16 ,\n",
      "Conditional Probablity:  1.0 .\n",
      "----------------------------------------------------------------------------------\n",
      "Rule  23\n",
      "(petal_width,  > 2.25 ) --> (class, Iris-viginica) ,\n",
      "Strength:  14 ,\n",
      "Specificity:  1 ,\n",
      "Support:  14 ,\n",
      "Conditional Probablity:  1.0 .\n",
      "----------------------------------------------------------------------------------\n",
      "Rule  24\n",
      "(petal_length,  > 5.85 ) --> (class, Iris-viginica) ,\n",
      "Strength:  13 ,\n",
      "Specificity:  1 ,\n",
      "Support:  13 ,\n",
      "Conditional Probablity:  1.0 .\n",
      "----------------------------------------------------------------------------------\n",
      "Rule  25\n",
      "(sepal_length,  > 7.05 ) --> (class, Iris-viginica) ,\n",
      "Strength:  12 ,\n",
      "Specificity:  1 ,\n",
      "Support:  12 ,\n",
      "Conditional Probablity:  1.0 .\n",
      "----------------------------------------------------------------------------------\n",
      "Rule  26\n",
      "(sepal_length,  <= 4.75 ) --> (class, Iris-setosa) ,\n",
      "Strength:  11 ,\n",
      "Specificity:  1 ,\n",
      "Support:  11 ,\n",
      "Conditional Probablity:  1.0 .\n",
      "----------------------------------------------------------------------------------\n",
      "Rule  27\n",
      "(sepal_length,  > 7.15 ) --> (class, Iris-viginica) ,\n",
      "Strength:  11 ,\n",
      "Specificity:  1 ,\n",
      "Support:  11 ,\n",
      "Conditional Probablity:  1.0 .\n",
      "----------------------------------------------------------------------------------\n",
      "Rule  28\n",
      "(petal_length,  > 5.95 ) --> (class, Iris-viginica) ,\n",
      "Strength:  11 ,\n",
      "Specificity:  1 ,\n",
      "Support:  11 ,\n",
      "Conditional Probablity:  1.0 .\n",
      "----------------------------------------------------------------------------------\n",
      "Rule  29\n",
      "(petal_length,  <= 1.35 ) --> (class, Iris-setosa) ,\n",
      "Strength:  11 ,\n",
      "Specificity:  1 ,\n",
      "Support:  11 ,\n",
      "Conditional Probablity:  1.0 .\n",
      "----------------------------------------------------------------------------------\n",
      "Rule  30\n",
      "(sepal_length,  <= 4.65 ) --> (class, Iris-setosa) ,\n",
      "Strength:  9 ,\n",
      "Specificity:  1 ,\n",
      "Support:  9 ,\n",
      "Conditional Probablity:  1.0 .\n",
      "----------------------------------------------------------------------------------\n",
      "Rule  31\n",
      "(petal_length,  > 6.05 ) --> (class, Iris-viginica) ,\n",
      "Strength:  9 ,\n",
      "Specificity:  1 ,\n",
      "Support:  9 ,\n",
      "Conditional Probablity:  1.0 .\n",
      "----------------------------------------------------------------------------------\n",
      "Rule  32\n",
      "(sepal_length,  > 7.25 ) --> (class, Iris-viginica) ,\n",
      "Strength:  8 ,\n",
      "Specificity:  1 ,\n",
      "Support:  8 ,\n",
      "Conditional Probablity:  1.0 .\n",
      "----------------------------------------------------------------------------------\n",
      "Rule  33\n",
      "(sepal_length,  > 7.35 ) --> (class, Iris-viginica) ,\n",
      "Strength:  7 ,\n",
      "Specificity:  1 ,\n",
      "Support:  7 ,\n",
      "Conditional Probablity:  1.0 .\n",
      "----------------------------------------------------------------------------------\n",
      "Rule  34\n",
      "(sepal_length,  > 7.50 ) --> (class, Iris-viginica) ,\n",
      "Strength:  6 ,\n",
      "Specificity:  1 ,\n",
      "Support:  6 ,\n",
      "Conditional Probablity:  1.0 .\n",
      "----------------------------------------------------------------------------------\n",
      "Rule  35\n",
      "(sepal_width,  > 3.85 ) --> (class, Iris-setosa) ,\n",
      "Strength:  6 ,\n",
      "Specificity:  1 ,\n",
      "Support:  6 ,\n",
      "Conditional Probablity:  1.0 .\n",
      "----------------------------------------------------------------------------------\n",
      "Rule  36\n",
      "(petal_length,  > 6.20 ) --> (class, Iris-viginica) ,\n",
      "Strength:  6 ,\n",
      "Specificity:  1 ,\n",
      "Support:  6 ,\n",
      "Conditional Probablity:  1.0 .\n",
      "----------------------------------------------------------------------------------\n",
      "Rule  37\n",
      "(petal_width,  <= 0.15 ) --> (class, Iris-setosa) ,\n",
      "Strength:  6 ,\n",
      "Specificity:  1 ,\n",
      "Support:  6 ,\n",
      "Conditional Probablity:  1.0 .\n",
      "----------------------------------------------------------------------------------\n",
      "Rule  38\n",
      "(petal_width,  > 2.35 ) --> (class, Iris-viginica) ,\n",
      "Strength:  6 ,\n",
      "Specificity:  1 ,\n",
      "Support:  6 ,\n",
      "Conditional Probablity:  1.0 .\n",
      "----------------------------------------------------------------------------------\n",
      "Rule  39\n",
      "(sepal_length,  > 7.65 ) --> (class, Iris-viginica) ,\n",
      "Strength:  5 ,\n",
      "Specificity:  1 ,\n",
      "Support:  5 ,\n",
      "Conditional Probablity:  1.0 .\n",
      "----------------------------------------------------------------------------------\n",
      "Rule  40\n",
      "(sepal_length,  <= 4.55 ) --> (class, Iris-setosa) ,\n",
      "Strength:  5 ,\n",
      "Specificity:  1 ,\n",
      "Support:  5 ,\n",
      "Conditional Probablity:  1.0 .\n",
      "----------------------------------------------------------------------------------\n",
      "Rule  41\n",
      "(petal_length,  > 6.35 ) --> (class, Iris-viginica) ,\n",
      "Strength:  5 ,\n",
      "Specificity:  1 ,\n",
      "Support:  5 ,\n",
      "Conditional Probablity:  1.0 .\n",
      "----------------------------------------------------------------------------------\n"
     ]
    }
   ],
   "source": [
    "sr_no=0\n",
    "for each_rule in possibleRules1:\n",
    "    sr_no=sr_no+1\n",
    "    print_rule(each_rule,sr_no)"
   ]
  },
  {
   "cell_type": "code",
   "execution_count": 47,
   "metadata": {},
   "outputs": [],
   "source": [
    "out_fileHandler= open('output1.txt','w')\n",
    "sr_no=0\n",
    "for curRule in possibleRules1:\n",
    "    sr_no=sr_no+1\n",
    "    #out_fileHandler.write(str (sr_no))\n",
    "    #out_fileHandler.write('. ')\n",
    "    rule_str=''\n",
    "    is_first=True\n",
    "    for i in range(len(curRule.attributes)):\n",
    "        if(is_first==False):\n",
    "            rule_str = rule_str +' & '\n",
    "        rule_str=rule_str +'('+curRule.attributes[i]+', '+curRule.attributes_value[i]+\")\"\n",
    "        is_first=False\n",
    "    rule_str = rule_str +' --> ('+Decision+', '+curRule.Decision+\")\"\n",
    "    out_fileHandler.write(rule_str)\n",
    "    out_fileHandler.write('\\n')\n",
    "    #print('Decision ',curRule.Decision)\n",
    "    #out_fileHandler.write('--------------------------------------------------------------------------------------------------')\n",
    "    #out_fileHandler.write('\\n')\n",
    "    if(sr_no==1000):\n",
    "        break\n",
    "out_fileHandler.write('\\n ------ Closing File ------\\n')\n",
    "out_fileHandler.close()"
   ]
  },
  {
   "cell_type": "code",
   "execution_count": 43,
   "metadata": {},
   "outputs": [
    {
     "data": {
      "text/plain": [
       "5839"
      ]
     },
     "execution_count": 43,
     "metadata": {},
     "output_type": "execute_result"
    }
   ],
   "source": [
    "sr_no"
   ]
  },
  {
   "cell_type": "code",
   "execution_count": null,
   "metadata": {},
   "outputs": [],
   "source": []
  },
  {
   "cell_type": "code",
   "execution_count": null,
   "metadata": {},
   "outputs": [],
   "source": []
  }
 ],
 "metadata": {
  "kernelspec": {
   "display_name": "Python 3",
   "language": "python",
   "name": "python3"
  },
  "language_info": {
   "codemirror_mode": {
    "name": "ipython",
    "version": 3
   },
   "file_extension": ".py",
   "mimetype": "text/x-python",
   "name": "python",
   "nbconvert_exporter": "python",
   "pygments_lexer": "ipython3",
   "version": "3.5.2"
  }
 },
 "nbformat": 4,
 "nbformat_minor": 2
}
