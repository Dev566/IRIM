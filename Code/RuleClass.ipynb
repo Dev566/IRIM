{
 "cells": [
  {
   "cell_type": "code",
   "execution_count": 3,
   "metadata": {},
   "outputs": [],
   "source": [
    "class RuleClass:\n",
    "    attributes = []\n",
    "    attributes_value = []\n",
    "    attributes_cover = []\n",
    "    decision_cover =[]\n",
    "    false_cover =[]\n",
    "    def __cmp__(self, other):\n",
    "        if self.strength > other.strength:\n",
    "            return 1\n",
    "        elif self.strength < other.strength:\n",
    "            return -1\n",
    "        else:\n",
    "            return 0\n",
    "        \n",
    "    def __init__(self,attributes,attributes_value,attributes_cover,decision_cover,false_cover):\n",
    "        self.strength = len(decision_cover)\n",
    "        self.specificity=len(attributes)\n",
    "        self.support = self.strength*self.specificity\n",
    "        self.attributes=attributes\n",
    "        self.attributes_value=attributes_value\n",
    "        self.attributes_cover = attributes_cover\n",
    "        self.decision_cover = decision_cover\n",
    "        self.false_cover= false_cover\n",
    "        \n",
    "    \n",
    "    \n",
    "    def print_rule():\n",
    "        print('Rule ')\n",
    "        print(attributes, attributes_value , decision_cover)\n",
    "        print('Strength ',self.strength)\n",
    "        print('Specificity ',self.specificity)\n",
    "        print('Support ',self.support)\n",
    "        prine('-----------------------------------------')\n",
    "        "
   ]
  },
  {
   "cell_type": "code",
   "execution_count": 2,
   "metadata": {},
   "outputs": [
    {
     "name": "stdout",
     "output_type": "stream",
     "text": [
      "Dev 1\n"
     ]
    }
   ],
   "source": []
  },
  {
   "cell_type": "code",
   "execution_count": null,
   "metadata": {},
   "outputs": [],
   "source": []
  }
 ],
 "metadata": {
  "kernelspec": {
   "display_name": "Python 3",
   "language": "python",
   "name": "python3"
  },
  "language_info": {
   "codemirror_mode": {
    "name": "ipython",
    "version": 3
   },
   "file_extension": ".py",
   "mimetype": "text/x-python",
   "name": "python",
   "nbconvert_exporter": "python",
   "pygments_lexer": "ipython3",
   "version": "3.5.2"
  }
 },
 "nbformat": 4,
 "nbformat_minor": 2
}
